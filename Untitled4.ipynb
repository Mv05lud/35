{
  "nbformat": 4,
  "nbformat_minor": 0,
  "metadata": {
    "colab": {
      "provenance": [],
      "authorship_tag": "ABX9TyNqK5pTBlI4d80LacEWdPOV",
      "include_colab_link": true
    },
    "kernelspec": {
      "name": "python3",
      "display_name": "Python 3"
    },
    "language_info": {
      "name": "python"
    }
  },
  "cells": [
    {
      "cell_type": "markdown",
      "metadata": {
        "id": "view-in-github",
        "colab_type": "text"
      },
      "source": [
        "<a href=\"https://colab.research.google.com/github/Mv05lud/35/blob/mainA/Untitled4.ipynb\" target=\"_parent\"><img src=\"https://colab.research.google.com/assets/colab-badge.svg\" alt=\"Open In Colab\"/></a>"
      ]
    },
    {
      "cell_type": "code",
      "execution_count": null,
      "metadata": {
        "id": "mWFO_UmQTAFB"
      },
      "outputs": [],
      "source": [
        "class Copilot:\n",
        "\n",
        "    def clear_text(self, text):\n",
        "        a = text.replace(\"\\n\", \" \")\n",
        "        b = a.split()\n",
        "        c = \" \".join(b)\n",
        "\n",
        "        return c\n",
        "\n",
        "    def get_answer(self, question):\n",
        "        prompt = question\n",
        "        \n",
        "        load_dotenv()\n",
        "\n",
        "        openai.api_key = os.getenv(\"CHAT_GPT3_API_KEY\")\n",
        "        response = openai.Completion.create(\n",
        "            engine=\"text-davinci-003\",\n",
        "            prompt=prompt,\n",
        "            max_tokens=512,\n",
        "            temperature=0.5,\n",
        "        )\n",
        "\n",
        "        json_object = response\n",
        "\n",
        "        # Convert the JSON object to a JSON string\n",
        "        json_string = json.dumps(json_object)\n",
        "\n",
        "        # Parse the JSON string using json.loads()\n",
        "        parsed_json = json.loads(json_string)\n",
        "\n",
        "        text = parsed_json['choices'][0]['text']\n",
        "        cleared_text = self.clear_text(text)\n",
        "        \n",
        "        return cleared_text"
      ]
    }
  ]
}